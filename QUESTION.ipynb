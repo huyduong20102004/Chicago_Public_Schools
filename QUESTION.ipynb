{
    "metadata": {
        "kernelspec": {
            "name": "SQL",
            "display_name": "SQL",
            "language": "sql"
        },
        "language_info": {
            "name": "sql",
            "version": ""
        }
    },
    "nbformat_minor": 2,
    "nbformat": 4,
    "cells": [
        {
            "cell_type": "markdown",
            "source": [
                "# 1"
            ],
            "metadata": {
                "azdata_cell_guid": "02759e24-5e30-47bb-b848-93072706439f"
            }
        },
        {
            "cell_type": "code",
            "source": [
                "--1-- Chọn ra 5 trường có điểm trung bình ISAT cao nhất và lấy thông tin trường đó bằng hàm get_school_info\n",
                "WITH tmp AS\n",
                "(\n",
                "    SELECT TOP 5 School_ID, AVG(ISAT_Exceeding_Math + ISAT_Exceeding_Reading + ISAT_Value_Add_Math + ISAT_Value_Add_Read) AS AVG_ISAT\n",
                "    FROM dbo.tbl_ISAT\n",
                "    GROUP BY School_ID\n",
                "    ORDER BY AVG_ISAT DESC\n",
                ") \n",
                "SELECT *\n",
                "FROM tmp\n",
                "CROSS APPLY get_school_info(tmp.School_ID)\n",
                "ORDER BY AVG_ISAT DESC;"
            ],
            "metadata": {
                "vscode": {
                    "languageId": "sql"
                },
                "azdata_cell_guid": "51d7e370-eb5c-4460-bd19-6199df7a17ba",
                "language": "sql"
            },
            "outputs": [
                {
                    "output_type": "display_data",
                    "data": {
                        "text/html": "Warning: Null value is eliminated by an aggregate or other SET operation."
                    },
                    "metadata": {}
                },
                {
                    "output_type": "display_data",
                    "data": {
                        "text/html": "(5 rows affected)"
                    },
                    "metadata": {}
                },
                {
                    "output_type": "display_data",
                    "data": {
                        "text/html": "Total execution time: 00:00:00.058"
                    },
                    "metadata": {}
                },
                {
                    "output_type": "execute_result",
                    "metadata": {},
                    "execution_count": 1,
                    "data": {
                        "application/vnd.dataresource+json": {
                            "schema": {
                                "fields": [
                                    {
                                        "name": "School_ID"
                                    },
                                    {
                                        "name": "AVG_ISAT"
                                    },
                                    {
                                        "name": "School_ID"
                                    },
                                    {
                                        "name": "Name_of_School"
                                    },
                                    {
                                        "name": "City"
                                    },
                                    {
                                        "name": "State"
                                    },
                                    {
                                        "name": "ZIP_Code"
                                    },
                                    {
                                        "name": "Street_Adress"
                                    },
                                    {
                                        "name": "Phone_Number"
                                    },
                                    {
                                        "name": "Link"
                                    }
                                ]
                            },
                            "data": [
                                {
                                    "School_ID": "610084",
                                    "AVG_ISAT": "189",
                                    "Name_of_School": "Annie Keller Elementary Gifted Magnet School",
                                    "City": "Chiago",
                                    "State": "IL",
                                    "ZIP_Code": "60655",
                                    "Street_Adress": "3020 W 108th St ",
                                    "Phone_Number": "(773) 535-2636",
                                    "Link": "http://schoolreports.cps.edu/SchoolProgressReport_Eng/Spring2011Eng_610084.pdf"
                                },
                                {
                                    "School_ID": "609880",
                                    "AVG_ISAT": "186.39999999999998",
                                    "Name_of_School": "Stephen Decatur Classical Elementary School",
                                    "City": "Chiago",
                                    "State": "IL",
                                    "ZIP_Code": "60645",
                                    "Street_Adress": "7030 N Sacramento Ave ",
                                    "Phone_Number": "(773) 534-2201",
                                    "Link": "http://schoolreports.cps.edu/SchoolProgressReport_Eng/Spring2011Eng_609880.pdf"
                                },
                                {
                                    "School_ID": "610298",
                                    "AVG_ISAT": "175.9",
                                    "Name_of_School": "Lenart Elementary Regional Gifted Center",
                                    "City": "Chiago",
                                    "State": "IL",
                                    "ZIP_Code": "60620",
                                    "Street_Adress": "8101 S LaSalle St ",
                                    "Phone_Number": "(773) 535-0040",
                                    "Link": "http://schoolreports.cps.edu/SchoolProgressReport_Eng/Spring2011Eng_610298.pdf"
                                },
                                {
                                    "School_ID": "609755",
                                    "AVG_ISAT": "174.5",
                                    "Name_of_School": "Whitney M Young Magnet High School",
                                    "City": "Chiago",
                                    "State": "IL",
                                    "ZIP_Code": "60607",
                                    "Street_Adress": "211 S Laflin St ",
                                    "Phone_Number": "(773) 534-7500",
                                    "Link": "http://schoolreports.cps.edu/SchoolProgressReport_Eng/Spring2011Eng_609755.pdf"
                                },
                                {
                                    "School_ID": "609794",
                                    "AVG_ISAT": "170.8",
                                    "Name_of_School": "Thomas A Edison Regional Gifted Center Elementary School",
                                    "City": "Chiago",
                                    "State": "IL",
                                    "ZIP_Code": "60625",
                                    "Street_Adress": "4929 N Sawyer Ave ",
                                    "Phone_Number": "(773) 534-0540",
                                    "Link": "http://schoolreports.cps.edu/SchoolProgressReport_Eng/Spring2011Eng_609794.pdf"
                                }
                            ]
                        },
                        "text/html": [
                            "<table>",
                            "<tr><th>School_ID</th><th>AVG_ISAT</th><th>School_ID</th><th>Name_of_School</th><th>City</th><th>State</th><th>ZIP_Code</th><th>Street_Adress</th><th>Phone_Number</th><th>Link</th></tr>",
                            "<tr><td>610084</td><td>189</td><td>610084</td><td>Annie Keller Elementary Gifted Magnet School</td><td>Chiago</td><td>IL</td><td>60655</td><td>3020 W 108th St </td><td>(773) 535-2636</td><td>http://schoolreports.cps.edu/SchoolProgressReport_Eng/Spring2011Eng_610084.pdf</td></tr>",
                            "<tr><td>609880</td><td>186.39999999999998</td><td>609880</td><td>Stephen Decatur Classical Elementary School</td><td>Chiago</td><td>IL</td><td>60645</td><td>7030 N Sacramento Ave </td><td>(773) 534-2201</td><td>http://schoolreports.cps.edu/SchoolProgressReport_Eng/Spring2011Eng_609880.pdf</td></tr>",
                            "<tr><td>610298</td><td>175.9</td><td>610298</td><td>Lenart Elementary Regional Gifted Center</td><td>Chiago</td><td>IL</td><td>60620</td><td>8101 S LaSalle St </td><td>(773) 535-0040</td><td>http://schoolreports.cps.edu/SchoolProgressReport_Eng/Spring2011Eng_610298.pdf</td></tr>",
                            "<tr><td>609755</td><td>174.5</td><td>609755</td><td>Whitney M Young Magnet High School</td><td>Chiago</td><td>IL</td><td>60607</td><td>211 S Laflin St </td><td>(773) 534-7500</td><td>http://schoolreports.cps.edu/SchoolProgressReport_Eng/Spring2011Eng_609755.pdf</td></tr>",
                            "<tr><td>609794</td><td>170.8</td><td>609794</td><td>Thomas A Edison Regional Gifted Center Elementary School</td><td>Chiago</td><td>IL</td><td>60625</td><td>4929 N Sawyer Ave </td><td>(773) 534-0540</td><td>http://schoolreports.cps.edu/SchoolProgressReport_Eng/Spring2011Eng_609794.pdf</td></tr>",
                            "</table>"
                        ]
                    }
                }
            ],
            "execution_count": 1
        },
        {
            "cell_type": "markdown",
            "source": [
                "# 2"
            ],
            "metadata": {
                "azdata_cell_guid": "53633d28-a522-431e-8764-16bb001110a9"
            }
        },
        {
            "cell_type": "code",
            "source": [
                "--2-- Chọn ra 5 trường an toàn để học nhất dựa vào các tiêu chí \n",
                "-- safety_score cao nhất, healthy_schools_certified = 'Yes' và Rate_of_Misconducts_per_100_students thấp nhất\n",
                "WITH tmp AS\n",
                "(\n",
                "    SELECT TOP 5 ss.School_ID, safety_score, healthy_schools_certified, Rate_of_Misconducts_per_100_students\n",
                "    FROM dbo.tbl_School_Survey ss\n",
                "    JOIN dbo.tbl_Student_Performance sp\n",
                "    ON ss.School_ID = sp.School_ID\n",
                "    WHERE Healthy_Schools_Certified = 'Yes'\n",
                "    ORDER BY safety_score DESC, Rate_of_Misconducts_per_100_students ASC\n",
                ")\n",
                "SELECT * FROM tmp\n",
                "CROSS APPLY get_school_info(tmp.School_ID)"
            ],
            "metadata": {
                "vscode": {
                    "languageId": "sql"
                },
                "azdata_cell_guid": "fa38833d-df33-4b5c-b9b5-d21a7e665b1d",
                "language": "sql"
            },
            "outputs": [
                {
                    "output_type": "display_data",
                    "data": {
                        "text/html": "(5 rows affected)"
                    },
                    "metadata": {}
                },
                {
                    "output_type": "display_data",
                    "data": {
                        "text/html": "Total execution time: 00:00:00.157"
                    },
                    "metadata": {}
                },
                {
                    "output_type": "execute_result",
                    "metadata": {},
                    "execution_count": 2,
                    "data": {
                        "application/vnd.dataresource+json": {
                            "schema": {
                                "fields": [
                                    {
                                        "name": "School_ID"
                                    },
                                    {
                                        "name": "safety_score"
                                    },
                                    {
                                        "name": "healthy_schools_certified"
                                    },
                                    {
                                        "name": "Rate_of_Misconducts_per_100_students"
                                    },
                                    {
                                        "name": "School_ID"
                                    },
                                    {
                                        "name": "Name_of_School"
                                    },
                                    {
                                        "name": "City"
                                    },
                                    {
                                        "name": "State"
                                    },
                                    {
                                        "name": "ZIP_Code"
                                    },
                                    {
                                        "name": "Street_Adress"
                                    },
                                    {
                                        "name": "Phone_Number"
                                    },
                                    {
                                        "name": "Link"
                                    }
                                ]
                            },
                            "data": [
                                {
                                    "School_ID": "609974",
                                    "safety_score": "92",
                                    "healthy_schools_certified": "Yes",
                                    "Rate_of_Misconducts_per_100_students": "1.2",
                                    "Name_of_School": "Hawthorne Elementary Scholastic Academy",
                                    "City": "Chiago",
                                    "State": "IL",
                                    "ZIP_Code": "60657",
                                    "Street_Adress": "3319 N Clifton Ave ",
                                    "Phone_Number": "(773) 534-5550",
                                    "Link": "http://schoolreports.cps.edu/SchoolProgressReport_Eng/Spring2011Eng_609974.pdf"
                                },
                                {
                                    "School_ID": "609995",
                                    "safety_score": "64",
                                    "healthy_schools_certified": "Yes",
                                    "Rate_of_Misconducts_per_100_students": "3.7",
                                    "Name_of_School": "Rufus M Hitch Elementary School",
                                    "City": "Chiago",
                                    "State": "IL",
                                    "ZIP_Code": "60646",
                                    "Street_Adress": "5625 N McVicker Ave ",
                                    "Phone_Number": "(773) 534-1189",
                                    "Link": "http://schoolreports.cps.edu/SchoolProgressReport_Eng/Spring2011Eng_609995.pdf"
                                },
                                {
                                    "School_ID": "610038",
                                    "safety_score": "99",
                                    "healthy_schools_certified": "Yes",
                                    "Rate_of_Misconducts_per_100_students": "2",
                                    "Name_of_School": "Abraham Lincoln Elementary School",
                                    "City": "Chiago",
                                    "State": "IL",
                                    "ZIP_Code": "60614",
                                    "Street_Adress": "615 W Kemper Pl ",
                                    "Phone_Number": "(773) 534-5720",
                                    "Link": "http://schoolreports.cps.edu/SchoolProgressReport_Eng/Spring2011Eng_610038.pdf"
                                },
                                {
                                    "School_ID": "610216",
                                    "safety_score": "60",
                                    "healthy_schools_certified": "Yes",
                                    "Rate_of_Misconducts_per_100_students": "2.9",
                                    "Name_of_School": "John A Walsh Elementary School",
                                    "City": "Chiago",
                                    "State": "IL",
                                    "ZIP_Code": "60608",
                                    "Street_Adress": "2015 S Peoria St ",
                                    "Phone_Number": "(773) 534-7950",
                                    "Link": "http://schoolreports.cps.edu/SchoolProgressReport_Eng/Spring2011Eng_610216.pdf"
                                },
                                {
                                    "School_ID": "610353",
                                    "safety_score": "58",
                                    "healthy_schools_certified": "Yes",
                                    "Rate_of_Misconducts_per_100_students": "1.9",
                                    "Name_of_School": "Calmeca Academy of Fine Arts and Dual Language",
                                    "City": "Chiago",
                                    "State": "IL",
                                    "ZIP_Code": "60632",
                                    "Street_Adress": "3456 W 38th St ",
                                    "Phone_Number": "(773) 535-7000",
                                    "Link": "http://schoolreports.cps.edu/SchoolProgressReport_Eng/Spring2011Eng_610353.pdf"
                                }
                            ]
                        },
                        "text/html": [
                            "<table>",
                            "<tr><th>School_ID</th><th>safety_score</th><th>healthy_schools_certified</th><th>Rate_of_Misconducts_per_100_students</th><th>School_ID</th><th>Name_of_School</th><th>City</th><th>State</th><th>ZIP_Code</th><th>Street_Adress</th><th>Phone_Number</th><th>Link</th></tr>",
                            "<tr><td>609974</td><td>92</td><td>Yes</td><td>1.2</td><td>609974</td><td>Hawthorne Elementary Scholastic Academy</td><td>Chiago</td><td>IL</td><td>60657</td><td>3319 N Clifton Ave </td><td>(773) 534-5550</td><td>http://schoolreports.cps.edu/SchoolProgressReport_Eng/Spring2011Eng_609974.pdf</td></tr>",
                            "<tr><td>609995</td><td>64</td><td>Yes</td><td>3.7</td><td>609995</td><td>Rufus M Hitch Elementary School</td><td>Chiago</td><td>IL</td><td>60646</td><td>5625 N McVicker Ave </td><td>(773) 534-1189</td><td>http://schoolreports.cps.edu/SchoolProgressReport_Eng/Spring2011Eng_609995.pdf</td></tr>",
                            "<tr><td>610038</td><td>99</td><td>Yes</td><td>2</td><td>610038</td><td>Abraham Lincoln Elementary School</td><td>Chiago</td><td>IL</td><td>60614</td><td>615 W Kemper Pl </td><td>(773) 534-5720</td><td>http://schoolreports.cps.edu/SchoolProgressReport_Eng/Spring2011Eng_610038.pdf</td></tr>",
                            "<tr><td>610216</td><td>60</td><td>Yes</td><td>2.9</td><td>610216</td><td>John A Walsh Elementary School</td><td>Chiago</td><td>IL</td><td>60608</td><td>2015 S Peoria St </td><td>(773) 534-7950</td><td>http://schoolreports.cps.edu/SchoolProgressReport_Eng/Spring2011Eng_610216.pdf</td></tr>",
                            "<tr><td>610353</td><td>58</td><td>Yes</td><td>1.9</td><td>610353</td><td>Calmeca Academy of Fine Arts and Dual Language</td><td>Chiago</td><td>IL</td><td>60632</td><td>3456 W 38th St </td><td>(773) 535-7000</td><td>http://schoolreports.cps.edu/SchoolProgressReport_Eng/Spring2011Eng_610353.pdf</td></tr>",
                            "</table>"
                        ]
                    }
                }
            ],
            "execution_count": 2
        },
        {
            "cell_type": "markdown",
            "source": [
                "# 3"
            ],
            "metadata": {
                "azdata_cell_guid": "79285879-5982-4b54-b8d5-27e7e31c8b57"
            },
            "attachments": {}
        },
        {
            "cell_type": "code",
            "source": [
                "--3-- Chọn ra các trường có tỷ lệ sinh viên vượt qua môn toán lớn hơn 60 theo thứ tự tăng dần \n",
                "WITH tmp AS\n",
                "(\n",
                " SELECT School_ID, ISAT_Exceeding_Math\n",
                " FROM tbl_ISAT\n",
                " WHERE ISAT_Exceeding_Math > 60\n",
                ")\n",
                "SELECT * FROM tmp \n",
                "CROSS APPLY get_school_info(tmp.School_ID)\n",
                "ORDER BY ISAT_Exceeding_Math;"
            ],
            "metadata": {
                "vscode": {
                    "languageId": "sql"
                },
                "azdata_cell_guid": "a788ab7e-3ef6-416f-87fa-f7ab4ee89f40",
                "language": "sql"
            },
            "outputs": [
                {
                    "output_type": "display_data",
                    "data": {
                        "text/html": "(19 rows affected)"
                    },
                    "metadata": {}
                },
                {
                    "output_type": "display_data",
                    "data": {
                        "text/html": "Total execution time: 00:00:00.064"
                    },
                    "metadata": {}
                },
                {
                    "output_type": "execute_result",
                    "metadata": {},
                    "execution_count": 3,
                    "data": {
                        "application/vnd.dataresource+json": {
                            "schema": {
                                "fields": [
                                    {
                                        "name": "School_ID"
                                    },
                                    {
                                        "name": "ISAT_Exceeding_Math"
                                    },
                                    {
                                        "name": "School_ID"
                                    },
                                    {
                                        "name": "Name_of_School"
                                    },
                                    {
                                        "name": "City"
                                    },
                                    {
                                        "name": "State"
                                    },
                                    {
                                        "name": "ZIP_Code"
                                    },
                                    {
                                        "name": "Street_Adress"
                                    },
                                    {
                                        "name": "Phone_Number"
                                    },
                                    {
                                        "name": "Link"
                                    }
                                ]
                            },
                            "data": [
                                {
                                    "School_ID": "609901",
                                    "ISAT_Exceeding_Math": "60.2",
                                    "Name_of_School": "Edgebrook Elementary School",
                                    "City": "Chiago",
                                    "State": "IL",
                                    "ZIP_Code": "60646",
                                    "Street_Adress": "6525 N Hiawatha Ave ",
                                    "Phone_Number": "(773) 534-1194",
                                    "Link": "http://schoolreports.cps.edu/SchoolProgressReport_Eng/Spring2011Eng_609901.pdf"
                                },
                                {
                                    "School_ID": "609803",
                                    "ISAT_Exceeding_Math": "61.3",
                                    "Name_of_School": "James G Blaine Elementary School",
                                    "City": "Chiago",
                                    "State": "IL",
                                    "ZIP_Code": "60613",
                                    "Street_Adress": "1420 W Grace St ",
                                    "Phone_Number": "(773) 534-5750",
                                    "Link": "http://schoolreports.cps.edu/SchoolProgressReport_Eng/Spring2011Eng_609803.pdf"
                                },
                                {
                                    "School_ID": "610391",
                                    "ISAT_Exceeding_Math": "61.7",
                                    "Name_of_School": "Robert Lindblom Math & Science Academy High School",
                                    "City": "Chiago",
                                    "State": "IL",
                                    "ZIP_Code": "60636",
                                    "Street_Adress": "6130 S Wolcott Ave ",
                                    "Phone_Number": "(773) 535-9300",
                                    "Link": "http://schoolreports.cps.edu/SchoolProgressReport_Eng/Spring2011Eng_610391.pdf"
                                },
                                {
                                    "School_ID": "609799",
                                    "ISAT_Exceeding_Math": "64",
                                    "Name_of_School": "Alexander Graham Bell Elementary School",
                                    "City": "Chiago",
                                    "State": "IL",
                                    "ZIP_Code": "60618",
                                    "Street_Adress": "3730 N Oakley Ave ",
                                    "Phone_Number": "(773) 534-5150",
                                    "Link": "http://schoolreports.cps.edu/SchoolProgressReport_Eng/Spring2011Eng_609799.pdf"
                                },
                                {
                                    "School_ID": "609746",
                                    "ISAT_Exceeding_Math": "69.5",
                                    "Name_of_School": "Kenwood Academy High School",
                                    "City": "Chiago",
                                    "State": "IL",
                                    "ZIP_Code": "60615",
                                    "Street_Adress": "5015 S Blackstone Ave ",
                                    "Phone_Number": "(773) 535-1350",
                                    "Link": "http://schoolreports.cps.edu/SchoolProgressReport_Eng/Spring2011Eng_609746.pdf"
                                },
                                {
                                    "School_ID": "610038",
                                    "ISAT_Exceeding_Math": "69.7",
                                    "Name_of_School": "Abraham Lincoln Elementary School",
                                    "City": "Chiago",
                                    "State": "IL",
                                    "ZIP_Code": "60614",
                                    "Street_Adress": "615 W Kemper Pl ",
                                    "Phone_Number": "(773) 534-5720",
                                    "Link": "http://schoolreports.cps.edu/SchoolProgressReport_Eng/Spring2011Eng_610038.pdf"
                                },
                                {
                                    "School_ID": "610060",
                                    "ISAT_Exceeding_Math": "70.4",
                                    "Name_of_School": "Andrew Jackson Elementary Language Academy",
                                    "City": "Chiago",
                                    "State": "IL",
                                    "ZIP_Code": "60607",
                                    "Street_Adress": "1340 W Harrison St ",
                                    "Phone_Number": "(773) 534-7000",
                                    "Link": "http://schoolreports.cps.edu/SchoolProgressReport_Eng/Spring2011Eng_610060.pdf"
                                },
                                {
                                    "School_ID": "610066",
                                    "ISAT_Exceeding_Math": "73.3",
                                    "Name_of_School": "James E McDade Elementary Classical School",
                                    "City": "Chiago",
                                    "State": "IL",
                                    "ZIP_Code": "60619",
                                    "Street_Adress": "8801 S Indiana Ave ",
                                    "Phone_Number": "(773) 535-3669",
                                    "Link": "http://schoolreports.cps.edu/SchoolProgressReport_Eng/Spring2011Eng_610066.pdf"
                                },
                                {
                                    "School_ID": "610105",
                                    "ISAT_Exceeding_Math": "75.1",
                                    "Name_of_School": "Oriole Park Elementary School",
                                    "City": "Chiago",
                                    "State": "IL",
                                    "ZIP_Code": "60656",
                                    "Street_Adress": "5424 N Oketo Ave ",
                                    "Phone_Number": "(773) 534-1201",
                                    "Link": "http://schoolreports.cps.edu/SchoolProgressReport_Eng/Spring2011Eng_610105.pdf"
                                },
                                {
                                    "School_ID": "609974",
                                    "ISAT_Exceeding_Math": "75.1",
                                    "Name_of_School": "Hawthorne Elementary Scholastic Academy",
                                    "City": "Chiago",
                                    "State": "IL",
                                    "ZIP_Code": "60657",
                                    "Street_Adress": "3319 N Clifton Ave ",
                                    "Phone_Number": "(773) 534-5550",
                                    "Link": "http://schoolreports.cps.edu/SchoolProgressReport_Eng/Spring2011Eng_609974.pdf"
                                },
                                {
                                    "School_ID": "610177",
                                    "ISAT_Exceeding_Math": "77.2",
                                    "Name_of_School": "Mark Skinner Elementary School",
                                    "City": "Chiago",
                                    "State": "IL",
                                    "ZIP_Code": "60607",
                                    "Street_Adress": "1260 W Adams St ",
                                    "Phone_Number": "(773) 534-7790",
                                    "Link": "http://schoolreports.cps.edu/SchoolProgressReport_Eng/Spring2011Eng_610177.pdf"
                                },
                                {
                                    "School_ID": "610132",
                                    "ISAT_Exceeding_Math": "78.8",
                                    "Name_of_School": "Edgar Allan Poe Elementary Classical School",
                                    "City": "Chiago",
                                    "State": "IL",
                                    "ZIP_Code": "60628",
                                    "Street_Adress": "10538 S Langley Ave ",
                                    "Phone_Number": "(773) 535-5525",
                                    "Link": "http://schoolreports.cps.edu/SchoolProgressReport_Eng/Spring2011Eng_610132.pdf"
                                },
                                {
                                    "School_ID": "609794",
                                    "ISAT_Exceeding_Math": "79",
                                    "Name_of_School": "Thomas A Edison Regional Gifted Center Elementary School",
                                    "City": "Chiago",
                                    "State": "IL",
                                    "ZIP_Code": "60625",
                                    "Street_Adress": "4929 N Sawyer Ave ",
                                    "Phone_Number": "(773) 534-0540",
                                    "Link": "http://schoolreports.cps.edu/SchoolProgressReport_Eng/Spring2011Eng_609794.pdf"
                                },
                                {
                                    "School_ID": "609734",
                                    "ISAT_Exceeding_Math": "80.2",
                                    "Name_of_School": "William Howard Taft High School",
                                    "City": "Chiago",
                                    "State": "IL",
                                    "ZIP_Code": "60631",
                                    "Street_Adress": "6530 W Bryn Mawr Ave ",
                                    "Phone_Number": "(773) 534-1000",
                                    "Link": "http://schoolreports.cps.edu/SchoolProgressReport_Eng/Spring2011Eng_609734.pdf"
                                },
                                {
                                    "School_ID": "610298",
                                    "ISAT_Exceeding_Math": "88",
                                    "Name_of_School": "Lenart Elementary Regional Gifted Center",
                                    "City": "Chiago",
                                    "State": "IL",
                                    "ZIP_Code": "60620",
                                    "Street_Adress": "8101 S LaSalle St ",
                                    "Phone_Number": "(773) 535-0040",
                                    "Link": "http://schoolreports.cps.edu/SchoolProgressReport_Eng/Spring2011Eng_610298.pdf"
                                },
                                {
                                    "School_ID": "610084",
                                    "ISAT_Exceeding_Math": "92.8",
                                    "Name_of_School": "Annie Keller Elementary Gifted Magnet School",
                                    "City": "Chiago",
                                    "State": "IL",
                                    "ZIP_Code": "60655",
                                    "Street_Adress": "3020 W 108th St ",
                                    "Phone_Number": "(773) 535-2636",
                                    "Link": "http://schoolreports.cps.edu/SchoolProgressReport_Eng/Spring2011Eng_610084.pdf"
                                },
                                {
                                    "School_ID": "609880",
                                    "ISAT_Exceeding_Math": "93.6",
                                    "Name_of_School": "Stephen Decatur Classical Elementary School",
                                    "City": "Chiago",
                                    "State": "IL",
                                    "ZIP_Code": "60645",
                                    "Street_Adress": "7030 N Sacramento Ave ",
                                    "Phone_Number": "(773) 534-2201",
                                    "Link": "http://schoolreports.cps.edu/SchoolProgressReport_Eng/Spring2011Eng_609880.pdf"
                                },
                                {
                                    "School_ID": "609755",
                                    "ISAT_Exceeding_Math": "99.5",
                                    "Name_of_School": "Whitney M Young Magnet High School",
                                    "City": "Chiago",
                                    "State": "IL",
                                    "ZIP_Code": "60607",
                                    "Street_Adress": "211 S Laflin St ",
                                    "Phone_Number": "(773) 534-7500",
                                    "Link": "http://schoolreports.cps.edu/SchoolProgressReport_Eng/Spring2011Eng_609755.pdf"
                                },
                                {
                                    "School_ID": "610534",
                                    "ISAT_Exceeding_Math": "100",
                                    "Name_of_School": "Skinner North",
                                    "City": "Chiago",
                                    "State": "IL",
                                    "ZIP_Code": "60610",
                                    "Street_Adress": "640 W Scott St ",
                                    "Phone_Number": "(773) 534-8500",
                                    "Link": "http://schoolreports.cps.edu/SchoolProgressReport_Eng/Spring2011Eng_610534.pdf"
                                }
                            ]
                        },
                        "text/html": [
                            "<table>",
                            "<tr><th>School_ID</th><th>ISAT_Exceeding_Math</th><th>School_ID</th><th>Name_of_School</th><th>City</th><th>State</th><th>ZIP_Code</th><th>Street_Adress</th><th>Phone_Number</th><th>Link</th></tr>",
                            "<tr><td>609901</td><td>60.2</td><td>609901</td><td>Edgebrook Elementary School</td><td>Chiago</td><td>IL</td><td>60646</td><td>6525 N Hiawatha Ave </td><td>(773) 534-1194</td><td>http://schoolreports.cps.edu/SchoolProgressReport_Eng/Spring2011Eng_609901.pdf</td></tr>",
                            "<tr><td>609803</td><td>61.3</td><td>609803</td><td>James G Blaine Elementary School</td><td>Chiago</td><td>IL</td><td>60613</td><td>1420 W Grace St </td><td>(773) 534-5750</td><td>http://schoolreports.cps.edu/SchoolProgressReport_Eng/Spring2011Eng_609803.pdf</td></tr>",
                            "<tr><td>610391</td><td>61.7</td><td>610391</td><td>Robert Lindblom Math &amp; Science Academy High School</td><td>Chiago</td><td>IL</td><td>60636</td><td>6130 S Wolcott Ave </td><td>(773) 535-9300</td><td>http://schoolreports.cps.edu/SchoolProgressReport_Eng/Spring2011Eng_610391.pdf</td></tr>",
                            "<tr><td>609799</td><td>64</td><td>609799</td><td>Alexander Graham Bell Elementary School</td><td>Chiago</td><td>IL</td><td>60618</td><td>3730 N Oakley Ave </td><td>(773) 534-5150</td><td>http://schoolreports.cps.edu/SchoolProgressReport_Eng/Spring2011Eng_609799.pdf</td></tr>",
                            "<tr><td>609746</td><td>69.5</td><td>609746</td><td>Kenwood Academy High School</td><td>Chiago</td><td>IL</td><td>60615</td><td>5015 S Blackstone Ave </td><td>(773) 535-1350</td><td>http://schoolreports.cps.edu/SchoolProgressReport_Eng/Spring2011Eng_609746.pdf</td></tr>",
                            "<tr><td>610038</td><td>69.7</td><td>610038</td><td>Abraham Lincoln Elementary School</td><td>Chiago</td><td>IL</td><td>60614</td><td>615 W Kemper Pl </td><td>(773) 534-5720</td><td>http://schoolreports.cps.edu/SchoolProgressReport_Eng/Spring2011Eng_610038.pdf</td></tr>",
                            "<tr><td>610060</td><td>70.4</td><td>610060</td><td>Andrew Jackson Elementary Language Academy</td><td>Chiago</td><td>IL</td><td>60607</td><td>1340 W Harrison St </td><td>(773) 534-7000</td><td>http://schoolreports.cps.edu/SchoolProgressReport_Eng/Spring2011Eng_610060.pdf</td></tr>",
                            "<tr><td>610066</td><td>73.3</td><td>610066</td><td>James E McDade Elementary Classical School</td><td>Chiago</td><td>IL</td><td>60619</td><td>8801 S Indiana Ave </td><td>(773) 535-3669</td><td>http://schoolreports.cps.edu/SchoolProgressReport_Eng/Spring2011Eng_610066.pdf</td></tr>",
                            "<tr><td>610105</td><td>75.1</td><td>610105</td><td>Oriole Park Elementary School</td><td>Chiago</td><td>IL</td><td>60656</td><td>5424 N Oketo Ave </td><td>(773) 534-1201</td><td>http://schoolreports.cps.edu/SchoolProgressReport_Eng/Spring2011Eng_610105.pdf</td></tr>",
                            "<tr><td>609974</td><td>75.1</td><td>609974</td><td>Hawthorne Elementary Scholastic Academy</td><td>Chiago</td><td>IL</td><td>60657</td><td>3319 N Clifton Ave </td><td>(773) 534-5550</td><td>http://schoolreports.cps.edu/SchoolProgressReport_Eng/Spring2011Eng_609974.pdf</td></tr>",
                            "<tr><td>610177</td><td>77.2</td><td>610177</td><td>Mark Skinner Elementary School</td><td>Chiago</td><td>IL</td><td>60607</td><td>1260 W Adams St </td><td>(773) 534-7790</td><td>http://schoolreports.cps.edu/SchoolProgressReport_Eng/Spring2011Eng_610177.pdf</td></tr>",
                            "<tr><td>610132</td><td>78.8</td><td>610132</td><td>Edgar Allan Poe Elementary Classical School</td><td>Chiago</td><td>IL</td><td>60628</td><td>10538 S Langley Ave </td><td>(773) 535-5525</td><td>http://schoolreports.cps.edu/SchoolProgressReport_Eng/Spring2011Eng_610132.pdf</td></tr>",
                            "<tr><td>609794</td><td>79</td><td>609794</td><td>Thomas A Edison Regional Gifted Center Elementary School</td><td>Chiago</td><td>IL</td><td>60625</td><td>4929 N Sawyer Ave </td><td>(773) 534-0540</td><td>http://schoolreports.cps.edu/SchoolProgressReport_Eng/Spring2011Eng_609794.pdf</td></tr>",
                            "<tr><td>609734</td><td>80.2</td><td>609734</td><td>William Howard Taft High School</td><td>Chiago</td><td>IL</td><td>60631</td><td>6530 W Bryn Mawr Ave </td><td>(773) 534-1000</td><td>http://schoolreports.cps.edu/SchoolProgressReport_Eng/Spring2011Eng_609734.pdf</td></tr>",
                            "<tr><td>610298</td><td>88</td><td>610298</td><td>Lenart Elementary Regional Gifted Center</td><td>Chiago</td><td>IL</td><td>60620</td><td>8101 S LaSalle St </td><td>(773) 535-0040</td><td>http://schoolreports.cps.edu/SchoolProgressReport_Eng/Spring2011Eng_610298.pdf</td></tr>",
                            "<tr><td>610084</td><td>92.8</td><td>610084</td><td>Annie Keller Elementary Gifted Magnet School</td><td>Chiago</td><td>IL</td><td>60655</td><td>3020 W 108th St </td><td>(773) 535-2636</td><td>http://schoolreports.cps.edu/SchoolProgressReport_Eng/Spring2011Eng_610084.pdf</td></tr>",
                            "<tr><td>609880</td><td>93.6</td><td>609880</td><td>Stephen Decatur Classical Elementary School</td><td>Chiago</td><td>IL</td><td>60645</td><td>7030 N Sacramento Ave </td><td>(773) 534-2201</td><td>http://schoolreports.cps.edu/SchoolProgressReport_Eng/Spring2011Eng_609880.pdf</td></tr>",
                            "<tr><td>609755</td><td>99.5</td><td>609755</td><td>Whitney M Young Magnet High School</td><td>Chiago</td><td>IL</td><td>60607</td><td>211 S Laflin St </td><td>(773) 534-7500</td><td>http://schoolreports.cps.edu/SchoolProgressReport_Eng/Spring2011Eng_609755.pdf</td></tr>",
                            "<tr><td>610534</td><td>100</td><td>610534</td><td>Skinner North</td><td>Chiago</td><td>IL</td><td>60610</td><td>640 W Scott St </td><td>(773) 534-8500</td><td>http://schoolreports.cps.edu/SchoolProgressReport_Eng/Spring2011Eng_610534.pdf</td></tr>",
                            "</table>"
                        ]
                    }
                }
            ],
            "execution_count": 3
        },
        {
            "cell_type": "markdown",
            "source": [
                "# 4"
            ],
            "metadata": {
                "azdata_cell_guid": "ef655c86-5020-417a-ba31-0ad64c819d44"
            },
            "attachments": {}
        },
        {
            "cell_type": "code",
            "source": [
                "--4-- Chọn ra 10 trường có chất lượng học của sinh viên tốt nhất \n",
                "SELECT top 10 CPS.school_id,cps.name_of_school,st.Average_Student_Attendance,st.Rate_of_Misconducts_per_100_students\n",
                "FROM tbl_CHICAGO_PUBLIC_SCHOOLS as CPS\n",
                "INNER JOIN tbl_Student_Performance as St ON CPS.School_id = st.School_id\n",
                "ORDER BY (st.Average_Student_Attendance - st.Rate_of_Misconducts_per_100_students*100) DESC"
            ],
            "metadata": {
                "vscode": {
                    "languageId": "sql"
                },
                "azdata_cell_guid": "f2f88d0e-e5e0-49c1-b9cb-cc08a16e8004",
                "language": "sql",
                "tags": []
            },
            "outputs": [
                {
                    "output_type": "display_data",
                    "data": {
                        "text/html": "(10 rows affected)"
                    },
                    "metadata": {}
                },
                {
                    "output_type": "display_data",
                    "data": {
                        "text/html": "Total execution time: 00:00:00.064"
                    },
                    "metadata": {}
                },
                {
                    "output_type": "execute_result",
                    "metadata": {},
                    "execution_count": 4,
                    "data": {
                        "application/vnd.dataresource+json": {
                            "schema": {
                                "fields": [
                                    {
                                        "name": "school_id"
                                    },
                                    {
                                        "name": "name_of_school"
                                    },
                                    {
                                        "name": "Average_Student_Attendance"
                                    },
                                    {
                                        "name": "Rate_of_Misconducts_per_100_students"
                                    }
                                ]
                            },
                            "data": [
                                {
                                    "school_id": "610132",
                                    "name_of_school": "Edgar Allan Poe Elementary Classical School",
                                    "Average_Student_Attendance": "97.6",
                                    "Rate_of_Misconducts_per_100_students": "0"
                                },
                                {
                                    "school_id": "610515",
                                    "name_of_school": "Disney II Magnet School",
                                    "Average_Student_Attendance": "97.3",
                                    "Rate_of_Misconducts_per_100_students": "0"
                                },
                                {
                                    "school_id": "610177",
                                    "name_of_school": "Mark Skinner Elementary School",
                                    "Average_Student_Attendance": "97.1",
                                    "Rate_of_Misconducts_per_100_students": "0"
                                },
                                {
                                    "school_id": "610402",
                                    "name_of_school": "DeVry University Advantage Academy High School",
                                    "Average_Student_Attendance": "96.7",
                                    "Rate_of_Misconducts_per_100_students": "0"
                                },
                                {
                                    "school_id": "610534",
                                    "name_of_school": "Skinner North",
                                    "Average_Student_Attendance": "96.4",
                                    "Rate_of_Misconducts_per_100_students": "0"
                                },
                                {
                                    "school_id": "610066",
                                    "name_of_school": "James E McDade Elementary Classical School",
                                    "Average_Student_Attendance": "96.2",
                                    "Rate_of_Misconducts_per_100_students": "0"
                                },
                                {
                                    "school_id": "610040",
                                    "name_of_school": "Henry D Lloyd Elementary School",
                                    "Average_Student_Attendance": "96.2",
                                    "Rate_of_Misconducts_per_100_students": "0"
                                },
                                {
                                    "school_id": "610002",
                                    "name_of_school": "Thomas Hoyne Elementary School",
                                    "Average_Student_Attendance": "94.8",
                                    "Rate_of_Misconducts_per_100_students": "0"
                                },
                                {
                                    "school_id": "610005",
                                    "name_of_school": "Charles Evans Hughes Elementary School",
                                    "Average_Student_Attendance": "94.4",
                                    "Rate_of_Misconducts_per_100_students": "0"
                                },
                                {
                                    "school_id": "610083",
                                    "name_of_school": "Daniel C Beard Elementary School",
                                    "Average_Student_Attendance": "91.9",
                                    "Rate_of_Misconducts_per_100_students": "0"
                                }
                            ]
                        },
                        "text/html": [
                            "<table>",
                            "<tr><th>school_id</th><th>name_of_school</th><th>Average_Student_Attendance</th><th>Rate_of_Misconducts_per_100_students</th></tr>",
                            "<tr><td>610132</td><td>Edgar Allan Poe Elementary Classical School</td><td>97.6</td><td>0</td></tr>",
                            "<tr><td>610515</td><td>Disney II Magnet School</td><td>97.3</td><td>0</td></tr>",
                            "<tr><td>610177</td><td>Mark Skinner Elementary School</td><td>97.1</td><td>0</td></tr>",
                            "<tr><td>610402</td><td>DeVry University Advantage Academy High School</td><td>96.7</td><td>0</td></tr>",
                            "<tr><td>610534</td><td>Skinner North</td><td>96.4</td><td>0</td></tr>",
                            "<tr><td>610066</td><td>James E McDade Elementary Classical School</td><td>96.2</td><td>0</td></tr>",
                            "<tr><td>610040</td><td>Henry D Lloyd Elementary School</td><td>96.2</td><td>0</td></tr>",
                            "<tr><td>610002</td><td>Thomas Hoyne Elementary School</td><td>94.8</td><td>0</td></tr>",
                            "<tr><td>610005</td><td>Charles Evans Hughes Elementary School</td><td>94.4</td><td>0</td></tr>",
                            "<tr><td>610083</td><td>Daniel C Beard Elementary School</td><td>91.9</td><td>0</td></tr>",
                            "</table>"
                        ]
                    }
                }
            ],
            "execution_count": 4
        },
        {
            "cell_type": "markdown",
            "source": [
                ""
            ],
            "metadata": {
                "azdata_cell_guid": "56db2c5e-e0f2-4de2-bb69-913bd67adc9d"
            }
        },
        {
            "cell_type": "markdown",
            "source": [
                "# 5"
            ],
            "metadata": {
                "azdata_cell_guid": "4dd3c967-a72b-4aff-9871-9bc31eb82866"
            },
            "attachments": {}
        },
        {
            "cell_type": "code",
            "source": [
                "--5-- Chọn ra 10 trường học có tỷ lệ sự hiện diện giáo viên đến trường trung bình cao nhất \n",
                "WITH tmp AS\n",
                "(\n",
                " SELECT TOP 10 School_ID, Average_Teacher_Attendance\n",
                " FROM tbl_Teachers\n",
                " ORDER BY Average_Teacher_Attendance DESC\n",
                ")\n",
                "SELECT * \n",
                "FROM tmp \n",
                "CROSS APPLY get_school_info(tmp.School_ID)\n",
                "ORDER BY Average_Teacher_Attendance DESC;"
            ],
            "metadata": {
                "vscode": {
                    "languageId": "sql"
                },
                "azdata_cell_guid": "cdab1e3f-25cc-408c-9006-04e8a7ab9c9c",
                "language": "sql"
            },
            "outputs": [
                {
                    "output_type": "display_data",
                    "data": {
                        "text/html": "(10 rows affected)"
                    },
                    "metadata": {}
                },
                {
                    "output_type": "display_data",
                    "data": {
                        "text/html": "Total execution time: 00:00:00.081"
                    },
                    "metadata": {}
                },
                {
                    "output_type": "execute_result",
                    "metadata": {},
                    "execution_count": 5,
                    "data": {
                        "application/vnd.dataresource+json": {
                            "schema": {
                                "fields": [
                                    {
                                        "name": "School_ID"
                                    },
                                    {
                                        "name": "Average_Teacher_Attendance"
                                    },
                                    {
                                        "name": "School_ID"
                                    },
                                    {
                                        "name": "Name_of_School"
                                    },
                                    {
                                        "name": "City"
                                    },
                                    {
                                        "name": "State"
                                    },
                                    {
                                        "name": "ZIP_Code"
                                    },
                                    {
                                        "name": "Street_Adress"
                                    },
                                    {
                                        "name": "Phone_Number"
                                    },
                                    {
                                        "name": "Link"
                                    }
                                ]
                            },
                            "data": [
                                {
                                    "School_ID": "610024",
                                    "Average_Teacher_Attendance": "98.5",
                                    "Name_of_School": "Lazaro Cardenas Elementary School",
                                    "City": "Chiago",
                                    "State": "IL",
                                    "ZIP_Code": "60623",
                                    "Street_Adress": "2345 S Millard Ave ",
                                    "Phone_Number": "(773) 534-1465",
                                    "Link": "http://schoolreports.cps.edu/SchoolProgressReport_Eng/Spring2011Eng_610024.pdf"
                                },
                                {
                                    "School_ID": "609900",
                                    "Average_Teacher_Attendance": "98.1",
                                    "Name_of_School": "George W Curtis Elementary School",
                                    "City": "Chiago",
                                    "State": "IL",
                                    "ZIP_Code": "60628",
                                    "Street_Adress": "32 E 115th St ",
                                    "Phone_Number": "(773) 535-5050",
                                    "Link": "http://schoolreports.cps.edu/SchoolProgressReport_Eng/Spring2011Eng_609900.pdf"
                                },
                                {
                                    "School_ID": "610156",
                                    "Average_Teacher_Attendance": "97.9",
                                    "Name_of_School": "Louis Armstrong Math & Science Elementary School",
                                    "City": "Chiago",
                                    "State": "IL",
                                    "ZIP_Code": "60644",
                                    "Street_Adress": "5345 W Congress Pkwy ",
                                    "Phone_Number": "(773) 534-6365",
                                    "Link": "http://schoolreports.cps.edu/SchoolProgressReport_Eng/Spring2011Eng_610156.pdf"
                                },
                                {
                                    "School_ID": "610206",
                                    "Average_Teacher_Attendance": "97.8",
                                    "Name_of_School": "Mark Twain Elementary School",
                                    "City": "Chiago",
                                    "State": "IL",
                                    "ZIP_Code": "60638",
                                    "Street_Adress": "5134 S Lotus Ave ",
                                    "Phone_Number": "(773) 535-2290",
                                    "Link": "http://schoolreports.cps.edu/SchoolProgressReport_Eng/Spring2011Eng_610206.pdf"
                                },
                                {
                                    "School_ID": "610298",
                                    "Average_Teacher_Attendance": "97.8",
                                    "Name_of_School": "Lenart Elementary Regional Gifted Center",
                                    "City": "Chiago",
                                    "State": "IL",
                                    "ZIP_Code": "60620",
                                    "Street_Adress": "8101 S LaSalle St ",
                                    "Phone_Number": "(773) 535-0040",
                                    "Link": "http://schoolreports.cps.edu/SchoolProgressReport_Eng/Spring2011Eng_610298.pdf"
                                },
                                {
                                    "School_ID": "610534",
                                    "Average_Teacher_Attendance": "97.8",
                                    "Name_of_School": "Skinner North",
                                    "City": "Chiago",
                                    "State": "IL",
                                    "ZIP_Code": "60610",
                                    "Street_Adress": "640 W Scott St ",
                                    "Phone_Number": "(773) 534-8500",
                                    "Link": "http://schoolreports.cps.edu/SchoolProgressReport_Eng/Spring2011Eng_610534.pdf"
                                },
                                {
                                    "School_ID": "609909",
                                    "Average_Teacher_Attendance": "97.7",
                                    "Name_of_School": "Edward Everett Elementary School",
                                    "City": "Chiago",
                                    "State": "IL",
                                    "ZIP_Code": "60608",
                                    "Street_Adress": "3419 S Bell Ave ",
                                    "Phone_Number": "(773) 535-4550",
                                    "Link": "http://schoolreports.cps.edu/SchoolProgressReport_Eng/Spring2011Eng_609909.pdf"
                                },
                                {
                                    "School_ID": "609809",
                                    "Average_Teacher_Attendance": "97.7",
                                    "Name_of_School": "Lorenz Brentano Math & Science Academy Elementary School",
                                    "City": "Chiago",
                                    "State": "IL",
                                    "ZIP_Code": "60647",
                                    "Street_Adress": "2723 N Fairfield Ave ",
                                    "Phone_Number": "(773) 534-4100",
                                    "Link": "http://schoolreports.cps.edu/SchoolProgressReport_Eng/Spring2011Eng_609809.pdf"
                                },
                                {
                                    "School_ID": "609842",
                                    "Average_Teacher_Attendance": "97.7",
                                    "Name_of_School": "Rachel Carson Elementary School",
                                    "City": "Chiago",
                                    "State": "IL",
                                    "ZIP_Code": "60629",
                                    "Street_Adress": "5516 S Maplewood Ave ",
                                    "Phone_Number": "(773) 535-9222",
                                    "Link": "http://schoolreports.cps.edu/SchoolProgressReport_Eng/Spring2011Eng_609842.pdf"
                                },
                                {
                                    "School_ID": "610047",
                                    "Average_Teacher_Attendance": "97.7",
                                    "Name_of_School": "James Madison Elementary School",
                                    "City": "Chiago",
                                    "State": "IL",
                                    "ZIP_Code": "60619",
                                    "Street_Adress": "7433 S Dorchester Ave ",
                                    "Phone_Number": "(773) 535-0551",
                                    "Link": "http://schoolreports.cps.edu/SchoolProgressReport_Eng/Spring2011Eng_610047.pdf"
                                }
                            ]
                        },
                        "text/html": [
                            "<table>",
                            "<tr><th>School_ID</th><th>Average_Teacher_Attendance</th><th>School_ID</th><th>Name_of_School</th><th>City</th><th>State</th><th>ZIP_Code</th><th>Street_Adress</th><th>Phone_Number</th><th>Link</th></tr>",
                            "<tr><td>610024</td><td>98.5</td><td>610024</td><td>Lazaro Cardenas Elementary School</td><td>Chiago</td><td>IL</td><td>60623</td><td>2345 S Millard Ave </td><td>(773) 534-1465</td><td>http://schoolreports.cps.edu/SchoolProgressReport_Eng/Spring2011Eng_610024.pdf</td></tr>",
                            "<tr><td>609900</td><td>98.1</td><td>609900</td><td>George W Curtis Elementary School</td><td>Chiago</td><td>IL</td><td>60628</td><td>32 E 115th St </td><td>(773) 535-5050</td><td>http://schoolreports.cps.edu/SchoolProgressReport_Eng/Spring2011Eng_609900.pdf</td></tr>",
                            "<tr><td>610156</td><td>97.9</td><td>610156</td><td>Louis Armstrong Math &amp; Science Elementary School</td><td>Chiago</td><td>IL</td><td>60644</td><td>5345 W Congress Pkwy </td><td>(773) 534-6365</td><td>http://schoolreports.cps.edu/SchoolProgressReport_Eng/Spring2011Eng_610156.pdf</td></tr>",
                            "<tr><td>610206</td><td>97.8</td><td>610206</td><td>Mark Twain Elementary School</td><td>Chiago</td><td>IL</td><td>60638</td><td>5134 S Lotus Ave </td><td>(773) 535-2290</td><td>http://schoolreports.cps.edu/SchoolProgressReport_Eng/Spring2011Eng_610206.pdf</td></tr>",
                            "<tr><td>610298</td><td>97.8</td><td>610298</td><td>Lenart Elementary Regional Gifted Center</td><td>Chiago</td><td>IL</td><td>60620</td><td>8101 S LaSalle St </td><td>(773) 535-0040</td><td>http://schoolreports.cps.edu/SchoolProgressReport_Eng/Spring2011Eng_610298.pdf</td></tr>",
                            "<tr><td>610534</td><td>97.8</td><td>610534</td><td>Skinner North</td><td>Chiago</td><td>IL</td><td>60610</td><td>640 W Scott St </td><td>(773) 534-8500</td><td>http://schoolreports.cps.edu/SchoolProgressReport_Eng/Spring2011Eng_610534.pdf</td></tr>",
                            "<tr><td>609909</td><td>97.7</td><td>609909</td><td>Edward Everett Elementary School</td><td>Chiago</td><td>IL</td><td>60608</td><td>3419 S Bell Ave </td><td>(773) 535-4550</td><td>http://schoolreports.cps.edu/SchoolProgressReport_Eng/Spring2011Eng_609909.pdf</td></tr>",
                            "<tr><td>609809</td><td>97.7</td><td>609809</td><td>Lorenz Brentano Math &amp; Science Academy Elementary School</td><td>Chiago</td><td>IL</td><td>60647</td><td>2723 N Fairfield Ave </td><td>(773) 534-4100</td><td>http://schoolreports.cps.edu/SchoolProgressReport_Eng/Spring2011Eng_609809.pdf</td></tr>",
                            "<tr><td>609842</td><td>97.7</td><td>609842</td><td>Rachel Carson Elementary School</td><td>Chiago</td><td>IL</td><td>60629</td><td>5516 S Maplewood Ave </td><td>(773) 535-9222</td><td>http://schoolreports.cps.edu/SchoolProgressReport_Eng/Spring2011Eng_609842.pdf</td></tr>",
                            "<tr><td>610047</td><td>97.7</td><td>610047</td><td>James Madison Elementary School</td><td>Chiago</td><td>IL</td><td>60619</td><td>7433 S Dorchester Ave </td><td>(773) 535-0551</td><td>http://schoolreports.cps.edu/SchoolProgressReport_Eng/Spring2011Eng_610047.pdf</td></tr>",
                            "</table>"
                        ]
                    }
                }
            ],
            "execution_count": 5
        },
        {
            "cell_type": "markdown",
            "source": [
                "# 6"
            ],
            "metadata": {
                "azdata_cell_guid": "c2d5105f-4ad3-455e-b36f-56f4abd5f74c"
            },
            "attachments": {}
        },
        {
            "cell_type": "code",
            "source": [
                "--6-- Đếm số trường theo community area name \n",
                " SELECT COUNT(*) [number_of_schools],cps.Community_Area_Number,dmg.Community_Area_Name\n",
                " FROM tbl_CHICAGO_PUBLIC_SCHOOLS AS cps\n",
                " INNER JOIN tbl_Demographics AS dmg ON cps.community_Area_Number = dmg.community_area_number \n",
                " GROUP BY cps.Community_Area_Number,dmg.Community_Area_Name;"
            ],
            "metadata": {
                "vscode": {
                    "languageId": "sql"
                },
                "azdata_cell_guid": "62a3bcc1-c76d-4708-b77d-42c2a93543b2",
                "language": "sql"
            },
            "outputs": [
                {
                    "output_type": "display_data",
                    "data": {
                        "text/html": "(77 rows affected)"
                    },
                    "metadata": {}
                },
                {
                    "output_type": "display_data",
                    "data": {
                        "text/html": "Total execution time: 00:00:00.068"
                    },
                    "metadata": {}
                },
                {
                    "output_type": "execute_result",
                    "metadata": {},
                    "execution_count": 6,
                    "data": {
                        "application/vnd.dataresource+json": {
                            "schema": {
                                "fields": [
                                    {
                                        "name": "number_of_schools"
                                    },
                                    {
                                        "name": "Community_Area_Number"
                                    },
                                    {
                                        "name": "Community_Area_Name"
                                    }
                                ]
                            },
                            "data": [
                                {
                                    "number_of_schools": "6",
                                    "Community_Area_Number": "1",
                                    "Community_Area_Name": "ROGERS PARK"
                                },
                                {
                                    "number_of_schools": "9",
                                    "Community_Area_Number": "2",
                                    "Community_Area_Name": "WEST RIDGE"
                                },
                                {
                                    "number_of_schools": "7",
                                    "Community_Area_Number": "3",
                                    "Community_Area_Name": "UPTOWN"
                                },
                                {
                                    "number_of_schools": "5",
                                    "Community_Area_Number": "4",
                                    "Community_Area_Name": "LINCOLN SQUARE"
                                },
                                {
                                    "number_of_schools": "7",
                                    "Community_Area_Number": "5",
                                    "Community_Area_Name": "NORTH CENTER"
                                },
                                {
                                    "number_of_schools": "11",
                                    "Community_Area_Number": "6",
                                    "Community_Area_Name": "LAKE VIEW"
                                },
                                {
                                    "number_of_schools": "7",
                                    "Community_Area_Number": "7",
                                    "Community_Area_Name": "LINCOLN PARK"
                                },
                                {
                                    "number_of_schools": "7",
                                    "Community_Area_Number": "8",
                                    "Community_Area_Name": "NEAR NORTH SIDE"
                                },
                                {
                                    "number_of_schools": "2",
                                    "Community_Area_Number": "9",
                                    "Community_Area_Name": "EDISON PARK"
                                },
                                {
                                    "number_of_schools": "8",
                                    "Community_Area_Number": "10",
                                    "Community_Area_Name": "NORWOOD PARK"
                                },
                                {
                                    "number_of_schools": "2",
                                    "Community_Area_Number": "11",
                                    "Community_Area_Name": "JEFFERSON PARK"
                                },
                                {
                                    "number_of_schools": "3",
                                    "Community_Area_Number": "12",
                                    "Community_Area_Name": "FOREST GLEN"
                                },
                                {
                                    "number_of_schools": "5",
                                    "Community_Area_Number": "13",
                                    "Community_Area_Name": "NORTH PARK"
                                },
                                {
                                    "number_of_schools": "8",
                                    "Community_Area_Number": "14",
                                    "Community_Area_Name": "ALBANY PARK"
                                },
                                {
                                    "number_of_schools": "7",
                                    "Community_Area_Number": "15",
                                    "Community_Area_Name": "PORTAGE PARK"
                                },
                                {
                                    "number_of_schools": "9",
                                    "Community_Area_Number": "16",
                                    "Community_Area_Name": "IRVING PARK"
                                },
                                {
                                    "number_of_schools": "6",
                                    "Community_Area_Number": "17",
                                    "Community_Area_Name": "DUNNING"
                                },
                                {
                                    "number_of_schools": "1",
                                    "Community_Area_Number": "18",
                                    "Community_Area_Name": "MONTCLARE"
                                },
                                {
                                    "number_of_schools": "12",
                                    "Community_Area_Number": "19",
                                    "Community_Area_Name": "BELMONT CRAGIN"
                                },
                                {
                                    "number_of_schools": "4",
                                    "Community_Area_Number": "20",
                                    "Community_Area_Name": "HERMOSA"
                                },
                                {
                                    "number_of_schools": "4",
                                    "Community_Area_Number": "21",
                                    "Community_Area_Name": "AVONDALE"
                                },
                                {
                                    "number_of_schools": "11",
                                    "Community_Area_Number": "22",
                                    "Community_Area_Name": "LOGAN SQUARE"
                                },
                                {
                                    "number_of_schools": "13",
                                    "Community_Area_Number": "23",
                                    "Community_Area_Name": "HUMBOLDT PARK"
                                },
                                {
                                    "number_of_schools": "20",
                                    "Community_Area_Number": "24",
                                    "Community_Area_Name": "WEST TOWN"
                                },
                                {
                                    "number_of_schools": "23",
                                    "Community_Area_Number": "25",
                                    "Community_Area_Name": "AUSTIN"
                                },
                                {
                                    "number_of_schools": "8",
                                    "Community_Area_Number": "26",
                                    "Community_Area_Name": "WEST GARFIELD PARK"
                                },
                                {
                                    "number_of_schools": "13",
                                    "Community_Area_Number": "27",
                                    "Community_Area_Name": "EAST GARFIELD PARK"
                                },
                                {
                                    "number_of_schools": "16",
                                    "Community_Area_Number": "28",
                                    "Community_Area_Name": "NEAR WEST SIDE"
                                },
                                {
                                    "number_of_schools": "16",
                                    "Community_Area_Number": "29",
                                    "Community_Area_Name": "NORTH LAWNDALE"
                                },
                                {
                                    "number_of_schools": "22",
                                    "Community_Area_Number": "30",
                                    "Community_Area_Name": "SOUTH LAWNDALE"
                                },
                                {
                                    "number_of_schools": "11",
                                    "Community_Area_Number": "31",
                                    "Community_Area_Name": "LOWER WEST SIDE"
                                },
                                {
                                    "number_of_schools": "1",
                                    "Community_Area_Number": "32",
                                    "Community_Area_Name": "LOOP"
                                },
                                {
                                    "number_of_schools": "3",
                                    "Community_Area_Number": "33",
                                    "Community_Area_Name": "NEAR SOUTH SIDE"
                                },
                                {
                                    "number_of_schools": "3",
                                    "Community_Area_Number": "34",
                                    "Community_Area_Name": "ARMOUR SQUARE"
                                },
                                {
                                    "number_of_schools": "11",
                                    "Community_Area_Number": "35",
                                    "Community_Area_Name": "DOUGLAS"
                                },
                                {
                                    "number_of_schools": "1",
                                    "Community_Area_Number": "36",
                                    "Community_Area_Name": "OAKLAND"
                                },
                                {
                                    "number_of_schools": "2",
                                    "Community_Area_Number": "37",
                                    "Community_Area_Name": "FULLER PARK"
                                },
                                {
                                    "number_of_schools": "8",
                                    "Community_Area_Number": "38",
                                    "Community_Area_Name": "GRAND BOULEVARD"
                                },
                                {
                                    "number_of_schools": "7",
                                    "Community_Area_Number": "39",
                                    "Community_Area_Name": "KENWOOD"
                                },
                                {
                                    "number_of_schools": "5",
                                    "Community_Area_Number": "40",
                                    "Community_Area_Name": "WASHINGTON PARK"
                                },
                                {
                                    "number_of_schools": "4",
                                    "Community_Area_Number": "41",
                                    "Community_Area_Name": "HYDE PARK"
                                },
                                {
                                    "number_of_schools": "8",
                                    "Community_Area_Number": "42",
                                    "Community_Area_Name": "WOODLAWN"
                                },
                                {
                                    "number_of_schools": "9",
                                    "Community_Area_Number": "43",
                                    "Community_Area_Name": "SOUTH SHORE"
                                },
                                {
                                    "number_of_schools": "9",
                                    "Community_Area_Number": "44",
                                    "Community_Area_Name": "CHATHAM"
                                },
                                {
                                    "number_of_schools": "3",
                                    "Community_Area_Number": "45",
                                    "Community_Area_Name": "AVALON PARK"
                                },
                                {
                                    "number_of_schools": "7",
                                    "Community_Area_Number": "46",
                                    "Community_Area_Name": "SOUTH CHICAGO"
                                },
                                {
                                    "number_of_schools": "1",
                                    "Community_Area_Number": "47",
                                    "Community_Area_Name": "BURNSIDE"
                                },
                                {
                                    "number_of_schools": "6",
                                    "Community_Area_Number": "48",
                                    "Community_Area_Name": "CALUMET HEIGHTS"
                                },
                                {
                                    "number_of_schools": "13",
                                    "Community_Area_Number": "49",
                                    "Community_Area_Name": "ROSELAND"
                                },
                                {
                                    "number_of_schools": "5",
                                    "Community_Area_Number": "50",
                                    "Community_Area_Name": "PULLMAN"
                                },
                                {
                                    "number_of_schools": "4",
                                    "Community_Area_Number": "51",
                                    "Community_Area_Name": "SOUTH DEERING"
                                },
                                {
                                    "number_of_schools": "5",
                                    "Community_Area_Number": "52",
                                    "Community_Area_Name": "EAST SIDE"
                                },
                                {
                                    "number_of_schools": "10",
                                    "Community_Area_Number": "53",
                                    "Community_Area_Name": "WEST PULLMAN"
                                },
                                {
                                    "number_of_schools": "4",
                                    "Community_Area_Number": "54",
                                    "Community_Area_Name": "RIVERDALE"
                                },
                                {
                                    "number_of_schools": "2",
                                    "Community_Area_Number": "55",
                                    "Community_Area_Name": "HEGEWISCH"
                                },
                                {
                                    "number_of_schools": "5",
                                    "Community_Area_Number": "56",
                                    "Community_Area_Name": "GARFIELD RIDGE"
                                },
                                {
                                    "number_of_schools": "2",
                                    "Community_Area_Number": "57",
                                    "Community_Area_Name": "ARCHER HEIGHTS"
                                },
                                {
                                    "number_of_schools": "8",
                                    "Community_Area_Number": "58",
                                    "Community_Area_Name": "BRIGHTON PARK"
                                },
                                {
                                    "number_of_schools": "4",
                                    "Community_Area_Number": "59",
                                    "Community_Area_Name": "MCKINLEY PARK"
                                },
                                {
                                    "number_of_schools": "5",
                                    "Community_Area_Number": "60",
                                    "Community_Area_Name": "BRIDGEPORT"
                                },
                                {
                                    "number_of_schools": "13",
                                    "Community_Area_Number": "61",
                                    "Community_Area_Name": "NEW CITY"
                                },
                                {
                                    "number_of_schools": "3",
                                    "Community_Area_Number": "62",
                                    "Community_Area_Name": "WEST ELSDON"
                                },
                                {
                                    "number_of_schools": "10",
                                    "Community_Area_Number": "63",
                                    "Community_Area_Name": "GAGE PARK"
                                },
                                {
                                    "number_of_schools": "4",
                                    "Community_Area_Number": "64",
                                    "Community_Area_Name": "CLEARING"
                                },
                                {
                                    "number_of_schools": "4",
                                    "Community_Area_Number": "65",
                                    "Community_Area_Name": "WEST LAWN"
                                },
                                {
                                    "number_of_schools": "7",
                                    "Community_Area_Number": "66",
                                    "Community_Area_Name": "CHICAGO LAWN"
                                },
                                {
                                    "number_of_schools": "13",
                                    "Community_Area_Number": "67",
                                    "Community_Area_Name": "WEST ENGLEWOOD"
                                },
                                {
                                    "number_of_schools": "17",
                                    "Community_Area_Number": "68",
                                    "Community_Area_Name": "ENGLEWOOD"
                                },
                                {
                                    "number_of_schools": "10",
                                    "Community_Area_Number": "69",
                                    "Community_Area_Name": "GREATER GRAND CROSSING"
                                },
                                {
                                    "number_of_schools": "8",
                                    "Community_Area_Number": "70",
                                    "Community_Area_Name": "ASHBURN"
                                },
                                {
                                    "number_of_schools": "10",
                                    "Community_Area_Number": "71",
                                    "Community_Area_Name": "AUBURN GRESHAM"
                                },
                                {
                                    "number_of_schools": "4",
                                    "Community_Area_Number": "72",
                                    "Community_Area_Name": "BEVERLY"
                                },
                                {
                                    "number_of_schools": "9",
                                    "Community_Area_Number": "73",
                                    "Community_Area_Name": "WASHINGTON HEIGHTS"
                                },
                                {
                                    "number_of_schools": "4",
                                    "Community_Area_Number": "74",
                                    "Community_Area_Name": "MOUNT GREENWOOD"
                                },
                                {
                                    "number_of_schools": "5",
                                    "Community_Area_Number": "75",
                                    "Community_Area_Name": "MORGAN PARK"
                                },
                                {
                                    "number_of_schools": "1",
                                    "Community_Area_Number": "76",
                                    "Community_Area_Name": "OHARE"
                                },
                                {
                                    "number_of_schools": "6",
                                    "Community_Area_Number": "77",
                                    "Community_Area_Name": "EDGEWATER"
                                }
                            ]
                        },
                        "text/html": [
                            "<table>",
                            "<tr><th>number_of_schools</th><th>Community_Area_Number</th><th>Community_Area_Name</th></tr>",
                            "<tr><td>6</td><td>1</td><td>ROGERS PARK</td></tr>",
                            "<tr><td>9</td><td>2</td><td>WEST RIDGE</td></tr>",
                            "<tr><td>7</td><td>3</td><td>UPTOWN</td></tr>",
                            "<tr><td>5</td><td>4</td><td>LINCOLN SQUARE</td></tr>",
                            "<tr><td>7</td><td>5</td><td>NORTH CENTER</td></tr>",
                            "<tr><td>11</td><td>6</td><td>LAKE VIEW</td></tr>",
                            "<tr><td>7</td><td>7</td><td>LINCOLN PARK</td></tr>",
                            "<tr><td>7</td><td>8</td><td>NEAR NORTH SIDE</td></tr>",
                            "<tr><td>2</td><td>9</td><td>EDISON PARK</td></tr>",
                            "<tr><td>8</td><td>10</td><td>NORWOOD PARK</td></tr>",
                            "<tr><td>2</td><td>11</td><td>JEFFERSON PARK</td></tr>",
                            "<tr><td>3</td><td>12</td><td>FOREST GLEN</td></tr>",
                            "<tr><td>5</td><td>13</td><td>NORTH PARK</td></tr>",
                            "<tr><td>8</td><td>14</td><td>ALBANY PARK</td></tr>",
                            "<tr><td>7</td><td>15</td><td>PORTAGE PARK</td></tr>",
                            "<tr><td>9</td><td>16</td><td>IRVING PARK</td></tr>",
                            "<tr><td>6</td><td>17</td><td>DUNNING</td></tr>",
                            "<tr><td>1</td><td>18</td><td>MONTCLARE</td></tr>",
                            "<tr><td>12</td><td>19</td><td>BELMONT CRAGIN</td></tr>",
                            "<tr><td>4</td><td>20</td><td>HERMOSA</td></tr>",
                            "<tr><td>4</td><td>21</td><td>AVONDALE</td></tr>",
                            "<tr><td>11</td><td>22</td><td>LOGAN SQUARE</td></tr>",
                            "<tr><td>13</td><td>23</td><td>HUMBOLDT PARK</td></tr>",
                            "<tr><td>20</td><td>24</td><td>WEST TOWN</td></tr>",
                            "<tr><td>23</td><td>25</td><td>AUSTIN</td></tr>",
                            "<tr><td>8</td><td>26</td><td>WEST GARFIELD PARK</td></tr>",
                            "<tr><td>13</td><td>27</td><td>EAST GARFIELD PARK</td></tr>",
                            "<tr><td>16</td><td>28</td><td>NEAR WEST SIDE</td></tr>",
                            "<tr><td>16</td><td>29</td><td>NORTH LAWNDALE</td></tr>",
                            "<tr><td>22</td><td>30</td><td>SOUTH LAWNDALE</td></tr>",
                            "<tr><td>11</td><td>31</td><td>LOWER WEST SIDE</td></tr>",
                            "<tr><td>1</td><td>32</td><td>LOOP</td></tr>",
                            "<tr><td>3</td><td>33</td><td>NEAR SOUTH SIDE</td></tr>",
                            "<tr><td>3</td><td>34</td><td>ARMOUR SQUARE</td></tr>",
                            "<tr><td>11</td><td>35</td><td>DOUGLAS</td></tr>",
                            "<tr><td>1</td><td>36</td><td>OAKLAND</td></tr>",
                            "<tr><td>2</td><td>37</td><td>FULLER PARK</td></tr>",
                            "<tr><td>8</td><td>38</td><td>GRAND BOULEVARD</td></tr>",
                            "<tr><td>7</td><td>39</td><td>KENWOOD</td></tr>",
                            "<tr><td>5</td><td>40</td><td>WASHINGTON PARK</td></tr>",
                            "<tr><td>4</td><td>41</td><td>HYDE PARK</td></tr>",
                            "<tr><td>8</td><td>42</td><td>WOODLAWN</td></tr>",
                            "<tr><td>9</td><td>43</td><td>SOUTH SHORE</td></tr>",
                            "<tr><td>9</td><td>44</td><td>CHATHAM</td></tr>",
                            "<tr><td>3</td><td>45</td><td>AVALON PARK</td></tr>",
                            "<tr><td>7</td><td>46</td><td>SOUTH CHICAGO</td></tr>",
                            "<tr><td>1</td><td>47</td><td>BURNSIDE</td></tr>",
                            "<tr><td>6</td><td>48</td><td>CALUMET HEIGHTS</td></tr>",
                            "<tr><td>13</td><td>49</td><td>ROSELAND</td></tr>",
                            "<tr><td>5</td><td>50</td><td>PULLMAN</td></tr>",
                            "<tr><td>4</td><td>51</td><td>SOUTH DEERING</td></tr>",
                            "<tr><td>5</td><td>52</td><td>EAST SIDE</td></tr>",
                            "<tr><td>10</td><td>53</td><td>WEST PULLMAN</td></tr>",
                            "<tr><td>4</td><td>54</td><td>RIVERDALE</td></tr>",
                            "<tr><td>2</td><td>55</td><td>HEGEWISCH</td></tr>",
                            "<tr><td>5</td><td>56</td><td>GARFIELD RIDGE</td></tr>",
                            "<tr><td>2</td><td>57</td><td>ARCHER HEIGHTS</td></tr>",
                            "<tr><td>8</td><td>58</td><td>BRIGHTON PARK</td></tr>",
                            "<tr><td>4</td><td>59</td><td>MCKINLEY PARK</td></tr>",
                            "<tr><td>5</td><td>60</td><td>BRIDGEPORT</td></tr>",
                            "<tr><td>13</td><td>61</td><td>NEW CITY</td></tr>",
                            "<tr><td>3</td><td>62</td><td>WEST ELSDON</td></tr>",
                            "<tr><td>10</td><td>63</td><td>GAGE PARK</td></tr>",
                            "<tr><td>4</td><td>64</td><td>CLEARING</td></tr>",
                            "<tr><td>4</td><td>65</td><td>WEST LAWN</td></tr>",
                            "<tr><td>7</td><td>66</td><td>CHICAGO LAWN</td></tr>",
                            "<tr><td>13</td><td>67</td><td>WEST ENGLEWOOD</td></tr>",
                            "<tr><td>17</td><td>68</td><td>ENGLEWOOD</td></tr>",
                            "<tr><td>10</td><td>69</td><td>GREATER GRAND CROSSING</td></tr>",
                            "<tr><td>8</td><td>70</td><td>ASHBURN</td></tr>",
                            "<tr><td>10</td><td>71</td><td>AUBURN GRESHAM</td></tr>",
                            "<tr><td>4</td><td>72</td><td>BEVERLY</td></tr>",
                            "<tr><td>9</td><td>73</td><td>WASHINGTON HEIGHTS</td></tr>",
                            "<tr><td>4</td><td>74</td><td>MOUNT GREENWOOD</td></tr>",
                            "<tr><td>5</td><td>75</td><td>MORGAN PARK</td></tr>",
                            "<tr><td>1</td><td>76</td><td>OHARE</td></tr>",
                            "<tr><td>6</td><td>77</td><td>EDGEWATER</td></tr>",
                            "</table>"
                        ]
                    }
                }
            ],
            "execution_count": 6
        },
        {
            "cell_type": "markdown",
            "source": [
                "# 7"
            ],
            "metadata": {
                "azdata_cell_guid": "f13dec3d-a12e-4d1c-a83c-f9d4c1ea5179"
            },
            "attachments": {}
        },
        {
            "cell_type": "code",
            "source": [
                "\n",
                "--7-- Chọn ra trường học có số lượng học sinh đăng ký vào đại học cao nhất \n",
                "WITH tmp AS\n",
                "(\n",
                "SELECT TOP 1 School_ID, MAX(College_Enrollment_number_of_students) AS Max_College_Enrollment_number_of_students\n",
                "FROM tbl_Graduation_Enrollment\n",
                "GROUP BY School_ID\n",
                "ORDER BY Max_College_Enrollment_number_of_students DESC  \n",
                ")\n",
                "SELECT * \n",
                "FROM tmp \n",
                "CROSS APPLY get_school_info(tmp.School_ID)\n",
                "ORDER BY Max_College_Enrollment_number_of_students DESC;"
            ],
            "metadata": {
                "vscode": {
                    "languageId": "sql"
                },
                "azdata_cell_guid": "da091afd-0c21-45c0-a146-22db426ae034",
                "language": "sql"
            },
            "outputs": [
                {
                    "output_type": "display_data",
                    "data": {
                        "text/html": "(1 row affected)"
                    },
                    "metadata": {}
                },
                {
                    "output_type": "display_data",
                    "data": {
                        "text/html": "Total execution time: 00:00:00.069"
                    },
                    "metadata": {}
                },
                {
                    "output_type": "execute_result",
                    "metadata": {},
                    "execution_count": 7,
                    "data": {
                        "application/vnd.dataresource+json": {
                            "schema": {
                                "fields": [
                                    {
                                        "name": "School_ID"
                                    },
                                    {
                                        "name": "Max_College_Enrollment_number_of_students"
                                    },
                                    {
                                        "name": "School_ID"
                                    },
                                    {
                                        "name": "Name_of_School"
                                    },
                                    {
                                        "name": "City"
                                    },
                                    {
                                        "name": "State"
                                    },
                                    {
                                        "name": "ZIP_Code"
                                    },
                                    {
                                        "name": "Street_Adress"
                                    },
                                    {
                                        "name": "Phone_Number"
                                    },
                                    {
                                        "name": "Link"
                                    }
                                ]
                            },
                            "data": [
                                {
                                    "School_ID": "609799",
                                    "Max_College_Enrollment_number_of_students": "998",
                                    "Name_of_School": "Alexander Graham Bell Elementary School",
                                    "City": "Chiago",
                                    "State": "IL",
                                    "ZIP_Code": "60618",
                                    "Street_Adress": "3730 N Oakley Ave ",
                                    "Phone_Number": "(773) 534-5150",
                                    "Link": "http://schoolreports.cps.edu/SchoolProgressReport_Eng/Spring2011Eng_609799.pdf"
                                }
                            ]
                        },
                        "text/html": [
                            "<table>",
                            "<tr><th>School_ID</th><th>Max_College_Enrollment_number_of_students</th><th>School_ID</th><th>Name_of_School</th><th>City</th><th>State</th><th>ZIP_Code</th><th>Street_Adress</th><th>Phone_Number</th><th>Link</th></tr>",
                            "<tr><td>609799</td><td>998</td><td>609799</td><td>Alexander Graham Bell Elementary School</td><td>Chiago</td><td>IL</td><td>60618</td><td>3730 N Oakley Ave </td><td>(773) 534-5150</td><td>http://schoolreports.cps.edu/SchoolProgressReport_Eng/Spring2011Eng_609799.pdf</td></tr>",
                            "</table>"
                        ]
                    }
                }
            ],
            "execution_count": 7
        },
        {
            "cell_type": "markdown",
            "source": [
                "# 8"
            ],
            "metadata": {
                "azdata_cell_guid": "b2c9214f-e4d3-4f75-bcd4-64657d4b21a3"
            },
            "attachments": {}
        },
        {
            "cell_type": "code",
            "source": [
                "--8-- Thống kê số lượng quan tâm của gia đình \n",
                "DECLARE @weak int = 0;\n",
                "DECLARE @average int = 0;\n",
                "DECLARE @good int = 0;\n",
                "\n",
                "SELECT \n",
                " @weak = SUM(CASE WHEN Parent_Engagement_Icon = 'Weak' THEN 1 ELSE 0 END),\n",
                " @average = SUM(CASE WHEN Parent_Engagement_Icon = 'Average' THEN 1 ELSE 0 END),\n",
                " @good = SUM(CASE WHEN Parent_Engagement_Icon = 'Strong' THEN 1 ELSE 0 END)\n",
                "FROM \n",
                " tbl_Family_Engagement_Environment;\n",
                "\n",
                "SELECT @weak AS WeakCount, @average AS AverageCount, @good AS StrongCount;"
            ],
            "metadata": {
                "vscode": {
                    "languageId": "sql"
                },
                "azdata_cell_guid": "c90eb512-9c58-43c7-b66c-b3285177e8c3",
                "language": "sql"
            },
            "outputs": [
                {
                    "output_type": "display_data",
                    "data": {
                        "text/html": "(1 row affected)"
                    },
                    "metadata": {}
                },
                {
                    "output_type": "display_data",
                    "data": {
                        "text/html": "Total execution time: 00:00:00.072"
                    },
                    "metadata": {}
                },
                {
                    "output_type": "execute_result",
                    "metadata": {},
                    "execution_count": 8,
                    "data": {
                        "application/vnd.dataresource+json": {
                            "schema": {
                                "fields": [
                                    {
                                        "name": "WeakCount"
                                    },
                                    {
                                        "name": "AverageCount"
                                    },
                                    {
                                        "name": "StrongCount"
                                    }
                                ]
                            },
                            "data": [
                                {
                                    "WeakCount": "96",
                                    "AverageCount": "248",
                                    "StrongCount": "88"
                                }
                            ]
                        },
                        "text/html": [
                            "<table>",
                            "<tr><th>WeakCount</th><th>AverageCount</th><th>StrongCount</th></tr>",
                            "<tr><td>96</td><td>248</td><td>88</td></tr>",
                            "</table>"
                        ]
                    }
                }
            ],
            "execution_count": 8
        },
        {
            "cell_type": "markdown",
            "source": [
                "# 9"
            ],
            "metadata": {
                "azdata_cell_guid": "5d5b196e-d8b8-48bf-b2c1-6c3382c30e36"
            },
            "attachments": {}
        },
        {
            "cell_type": "code",
            "source": [
                "--9-- Liệt kê điểm trung bình của các môn theo khối\n",
                "DECLARE @pk2_literacy_avg real = 0;\n",
                "DECLARE @gr3_5_math_avg real = 0;\n",
                "DECLARE @gr6_8_math_avg real = 0; \n",
                "\n",
                "-- Tính toán giá trị trung bình\n",
                "SELECT \n",
                "    @pk2_literacy_avg = COALESCE(\n",
                "        SUM(CASE WHEN TRY_CAST(Pk_2_Literacy AS real) IS NOT NULL THEN TRY_CAST(Pk_2_Literacy AS real) ELSE 0 END) \n",
                "        / NULLIF(SUM(CASE WHEN TRY_CAST(Pk_2_Literacy AS real) IS NOT NULL THEN 1 ELSE 0 END), 0), \n",
                "        0),\n",
                "    @gr3_5_math_avg = COALESCE(\n",
                "        SUM(CASE WHEN TRY_CAST(Gr3_5_Grade_Level_Math AS real) IS NOT NULL THEN TRY_CAST(Gr3_5_Grade_Level_Math AS real) ELSE 0 END) \n",
                "        / NULLIF(SUM(CASE WHEN TRY_CAST(Gr3_5_Grade_Level_Math AS real) IS NOT NULL THEN 1 ELSE 0 END), 0), \n",
                "        0),\n",
                "    @gr6_8_math_avg = COALESCE(\n",
                "        SUM(CASE WHEN TRY_CAST(Gr6_8_Grade_Level_Math AS real) IS NOT NULL THEN TRY_CAST(Gr6_8_Grade_Level_Math AS real) ELSE 0 END) \n",
                "        / NULLIF(SUM(CASE WHEN TRY_CAST(Gr6_8_Grade_Level_Math AS real) IS NOT NULL THEN 1 ELSE 0 END), 0), \n",
                "        0)\n",
                "FROM \n",
                "    tbl_Academic_Performance;\n",
                "\n",
                "-- Trả về kết quả\n",
                "SELECT @pk2_literacy_avg AS Pk2LiteracyAvg, @gr3_5_math_avg AS Gr3_5MathAvg, @gr6_8_math_avg AS Gr6_8MathAvg;\n",
                "\n",
                ""
            ],
            "metadata": {
                "vscode": {
                    "languageId": "sql"
                },
                "azdata_cell_guid": "938170d7-a8e9-4b64-88d6-e034dbf02fcb",
                "language": "sql",
                "tags": []
            },
            "outputs": [
                {
                    "output_type": "display_data",
                    "data": {
                        "text/html": "(1 row affected)"
                    },
                    "metadata": {}
                },
                {
                    "output_type": "display_data",
                    "data": {
                        "text/html": "Total execution time: 00:00:00.118"
                    },
                    "metadata": {}
                },
                {
                    "output_type": "execute_result",
                    "metadata": {},
                    "execution_count": 9,
                    "data": {
                        "application/vnd.dataresource+json": {
                            "schema": {
                                "fields": [
                                    {
                                        "name": "Pk2LiteracyAvg"
                                    },
                                    {
                                        "name": "Gr3_5MathAvg"
                                    },
                                    {
                                        "name": "Gr6_8MathAvg"
                                    }
                                ]
                            },
                            "data": [
                                {
                                    "Pk2LiteracyAvg": "63.79752",
                                    "Gr3_5MathAvg": "37.954205",
                                    "Gr6_8MathAvg": "42.763287"
                                }
                            ]
                        },
                        "text/html": [
                            "<table>",
                            "<tr><th>Pk2LiteracyAvg</th><th>Gr3_5MathAvg</th><th>Gr6_8MathAvg</th></tr>",
                            "<tr><td>63.79752</td><td>37.954205</td><td>42.763287</td></tr>",
                            "</table>"
                        ]
                    }
                }
            ],
            "execution_count": 9
        },
        {
            "cell_type": "markdown",
            "source": [
                "# 10"
            ],
            "metadata": {
                "azdata_cell_guid": "90c50b0d-8ab9-4e40-b5b6-3977cad78328"
            },
            "attachments": {}
        },
        {
            "cell_type": "code",
            "source": [
                "--10-- Chọn các trường học có \"Tỷ lệ đủ điều kiện vào đại học\" trên 70% và lấy thông tin trường đó bằng hàm get_school_infor\n",
                "WITH tmp AS\n",
                "(\n",
                "    SELECT School_ID, College_Eligibility\n",
                "    FROM tbl_Graduation_Enrollment \n",
                "    WHERE   TRY_CAST(College_Eligibility AS DECIMAL (5,2)) > 70\n",
                ")\n",
                "SELECT * \n",
                "FROM tmp \n",
                "CROSS APPLY get_school_info(tmp.School_ID)\n",
                "ORDER BY TRY_CAST(College_Eligibility AS DECIMAL (5,2));"
            ],
            "metadata": {
                "vscode": {
                    "languageId": "sql"
                },
                "azdata_cell_guid": "a3221fc0-6a58-4ff6-b399-1f4d26a0b06b",
                "language": "sql"
            },
            "outputs": [
                {
                    "output_type": "display_data",
                    "data": {
                        "text/html": "(4 rows affected)"
                    },
                    "metadata": {}
                },
                {
                    "output_type": "display_data",
                    "data": {
                        "text/html": "Total execution time: 00:00:00.080"
                    },
                    "metadata": {}
                },
                {
                    "output_type": "execute_result",
                    "metadata": {},
                    "execution_count": 10,
                    "data": {
                        "application/vnd.dataresource+json": {
                            "schema": {
                                "fields": [
                                    {
                                        "name": "School_ID"
                                    },
                                    {
                                        "name": "College_Eligibility"
                                    },
                                    {
                                        "name": "School_ID"
                                    },
                                    {
                                        "name": "Name_of_School"
                                    },
                                    {
                                        "name": "City"
                                    },
                                    {
                                        "name": "State"
                                    },
                                    {
                                        "name": "ZIP_Code"
                                    },
                                    {
                                        "name": "Street_Adress"
                                    },
                                    {
                                        "name": "Phone_Number"
                                    },
                                    {
                                        "name": "Link"
                                    }
                                ]
                            },
                            "data": [
                                {
                                    "School_ID": "609678",
                                    "College_Eligibility": "83.3",
                                    "Name_of_School": "William Jones College Preparatory High School",
                                    "City": "Chiago",
                                    "State": "IL",
                                    "ZIP_Code": "60605",
                                    "Street_Adress": "606 S State St ",
                                    "Phone_Number": "(773) 534-8600",
                                    "Link": "http://schoolreports.cps.edu/SchoolProgressReport_Eng/Spring2011Eng_609678.pdf"
                                },
                                {
                                    "School_ID": "609755",
                                    "College_Eligibility": "89",
                                    "Name_of_School": "Whitney M Young Magnet High School",
                                    "City": "Chiago",
                                    "State": "IL",
                                    "ZIP_Code": "60607",
                                    "Street_Adress": "211 S Laflin St ",
                                    "Phone_Number": "(773) 534-7500",
                                    "Link": "http://schoolreports.cps.edu/SchoolProgressReport_Eng/Spring2011Eng_609755.pdf"
                                },
                                {
                                    "School_ID": "609680",
                                    "College_Eligibility": "96.4",
                                    "Name_of_School": "Walter Payton College Preparatory High School",
                                    "City": "Chiago",
                                    "State": "IL",
                                    "ZIP_Code": "60610",
                                    "Street_Adress": "1034 N Wells St ",
                                    "Phone_Number": "(773) 534-0034",
                                    "Link": "http://schoolreports.cps.edu/SchoolProgressReport_Eng/Spring2011Eng_609680.pdf"
                                },
                                {
                                    "School_ID": "609749",
                                    "College_Eligibility": "98",
                                    "Name_of_School": "Northside College Preparatory High School",
                                    "City": "Chiago",
                                    "State": "IL",
                                    "ZIP_Code": "60625",
                                    "Street_Adress": "5501 N Kedzie Ave ",
                                    "Phone_Number": "(773) 534-3954",
                                    "Link": "http://schoolreports.cps.edu/SchoolProgressReport_Eng/Spring2011Eng_609749.pdf"
                                }
                            ]
                        },
                        "text/html": [
                            "<table>",
                            "<tr><th>School_ID</th><th>College_Eligibility</th><th>School_ID</th><th>Name_of_School</th><th>City</th><th>State</th><th>ZIP_Code</th><th>Street_Adress</th><th>Phone_Number</th><th>Link</th></tr>",
                            "<tr><td>609678</td><td>83.3</td><td>609678</td><td>William Jones College Preparatory High School</td><td>Chiago</td><td>IL</td><td>60605</td><td>606 S State St </td><td>(773) 534-8600</td><td>http://schoolreports.cps.edu/SchoolProgressReport_Eng/Spring2011Eng_609678.pdf</td></tr>",
                            "<tr><td>609755</td><td>89</td><td>609755</td><td>Whitney M Young Magnet High School</td><td>Chiago</td><td>IL</td><td>60607</td><td>211 S Laflin St </td><td>(773) 534-7500</td><td>http://schoolreports.cps.edu/SchoolProgressReport_Eng/Spring2011Eng_609755.pdf</td></tr>",
                            "<tr><td>609680</td><td>96.4</td><td>609680</td><td>Walter Payton College Preparatory High School</td><td>Chiago</td><td>IL</td><td>60610</td><td>1034 N Wells St </td><td>(773) 534-0034</td><td>http://schoolreports.cps.edu/SchoolProgressReport_Eng/Spring2011Eng_609680.pdf</td></tr>",
                            "<tr><td>609749</td><td>98</td><td>609749</td><td>Northside College Preparatory High School</td><td>Chiago</td><td>IL</td><td>60625</td><td>5501 N Kedzie Ave </td><td>(773) 534-3954</td><td>http://schoolreports.cps.edu/SchoolProgressReport_Eng/Spring2011Eng_609749.pdf</td></tr>",
                            "</table>"
                        ]
                    }
                }
            ],
            "execution_count": 10
        }
    ]
}